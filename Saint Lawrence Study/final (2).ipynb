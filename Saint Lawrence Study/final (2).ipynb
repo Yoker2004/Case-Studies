{
 "cells": [
  {
   "cell_type": "markdown",
   "id": "596e5007-e595-46fa-b746-aec89464030c",
   "metadata": {},
   "source": [
    "## 🚀 Glider Data Cleaning\n",
    "This section handles the merging, formatting, and preparation of the glider dataset.  \n",
    "Includes: depth categorization, zone labeling, low oxygen flag, and daily sampling \n",
    "\n",
    "The final Data Frame is called (Glider_sampled_df)"
   ]
  },
  {
   "cell_type": "code",
   "execution_count": 1,
   "id": "9f9be084-c3df-44e5-b0ab-f94e36bf1fee",
   "metadata": {},
   "outputs": [],
   "source": [
    "import pandas as pd\n",
    "import glob\n",
    "\n",
    "#Find all the glider csv files\n",
    "glider_csv_files = glob.glob(\"data/Glider data/*.csv\")\n",
    "\n",
    "# Read and merge\n",
    "df_list = [pd.read_csv(file) for file in glider_csv_files]\n",
    "Glider_df = pd.concat(df_list, ignore_index=True)\n",
    "\n",
    "# Optional: save to CSV\n",
    "# Glider_df.to_csv(\"Glider_data.csv\", index=False)\n"
   ]
  },
  {
   "cell_type": "code",
   "execution_count": 2,
   "id": "9e94605a-a4b6-486d-bdb7-e22517a16cdd",
   "metadata": {},
   "outputs": [],
   "source": [
    "#Convert Timestamp to Date\n",
    "Glider_df['time'] = pd.to_datetime(Glider_df['time'])\n",
    "Glider_df['date'] = Glider_df['time'].dt.strftime('%Y/%m/%d')"
   ]
  },
  {
   "cell_type": "code",
   "execution_count": 3,
   "id": "a7c13fac-3fe2-4ecc-b1cd-905ac9ea2d75",
   "metadata": {},
   "outputs": [
    {
     "data": {
      "text/plain": [
       "count    9.549632e+06\n",
       "mean     1.224928e+02\n",
       "std      1.016018e+02\n",
       "min     -1.784959e-01\n",
       "25%      3.603288e+01\n",
       "50%      8.665289e+01\n",
       "75%      2.025048e+02\n",
       "max      3.574836e+02\n",
       "Name: depth, dtype: float64"
      ]
     },
     "execution_count": 3,
     "metadata": {},
     "output_type": "execute_result"
    }
   ],
   "source": [
    "#Find the min and max depth\n",
    "Glider_df['depth'].describe()"
   ]
  },
  {
   "cell_type": "code",
   "execution_count": 4,
   "id": "e3510d45-c800-476e-9b31-913760b1bd08",
   "metadata": {},
   "outputs": [],
   "source": [
    "#Classify all entries by depth (Upper, Mid, Deep)\n",
    "def classify_depth(depth):\n",
    "    if depth <= 50:\n",
    "        return 'Upper'\n",
    "    elif depth <= 200:\n",
    "        return 'Mid'\n",
    "    else:\n",
    "        return 'Deep'\n",
    "\n",
    "#Add the depth_category column\n",
    "Glider_df['depth_category'] = Glider_df['depth'].apply(classify_depth)\n",
    "\n",
    "# Confirm the new column was added correctly\n",
    "# Glider_df[['depth', 'depth_category']].head()"
   ]
  },
  {
   "cell_type": "code",
   "execution_count": 5,
   "id": "a186d27a-b42e-47ff-96df-96613fcf4d66",
   "metadata": {},
   "outputs": [
    {
     "name": "stdout",
     "output_type": "stream",
     "text": [
      "Latitude range: 47.0294° to 49.2671°\n",
      "Longitude range: -64.4084° to -59.6130°\n",
      "\n",
      "This means the glider data covers ~250 km north–south and ~400 km east–west.\n",
      "To match the original case study methodology, we divided the region into ~0.5° grid zones\n",
      "(approximately ~55 km in latitude × ~40–45 km in longitude at this location).\n"
     ]
    }
   ],
   "source": [
    "#Find the range for both LATITUDE & LONGITUDE\n",
    "lat_min = Glider_df['latitude'].min()\n",
    "lat_max = Glider_df['latitude'].max()\n",
    "lon_min = Glider_df['longitude'].min()\n",
    "lon_max = Glider_df['longitude'].max()\n",
    "\n",
    "print(f\"Latitude range: {lat_min:.4f}° to {lat_max:.4f}°\")\n",
    "print(f\"Longitude range: {lon_min:.4f}° to {lon_max:.4f}°\")\n",
    "print(\"\\nThis means the glider data covers ~250 km north–south and ~400 km east–west.\")\n",
    "print(\"To match the original case study methodology, we divided the region into ~0.5° grid zones\")\n",
    "print(\"(approximately ~55 km in latitude × ~40–45 km in longitude at this location).\")"
   ]
  },
  {
   "cell_type": "code",
   "execution_count": 6,
   "id": "31a5f194-473a-45fc-9c4b-b7dae92ec5c7",
   "metadata": {},
   "outputs": [
    {
     "data": {
      "text/plain": [
       "array(['94_-128', '94_-127', '95_-127', '95_-128', '95_-129', '96_-128',\n",
       "       '96_-127', '96_-123', '96_-124', '97_-124', '97_-125', '97_-126',\n",
       "       '96_-125', '97_-127', '97_-128', '97_-129', '98_-129', '98_-128',\n",
       "       '98_-127', '94_-121', '95_-121', '95_-122', '96_-122', '94_-129',\n",
       "       '94_-122', '95_-120'], dtype=object)"
      ]
     },
     "execution_count": 6,
     "metadata": {},
     "output_type": "execute_result"
    }
   ],
   "source": [
    "#Add the zone column to the Data Frame\n",
    "Glider_df['zone'] = (\n",
    "    (Glider_df['latitude'] // 0.5).astype(int).astype(str) + \"_\" +\n",
    "    (Glider_df['longitude'] // 0.5).astype(int).astype(str)\n",
    ")\n",
    "\n",
    "# Count total number of Zones (There are 26 in total)\n",
    "# Glider_df['zone'].nunique()\n",
    "\n",
    "# #Display the actual zones\n",
    "Glider_df['zone'].unique()"
   ]
  },
  {
   "cell_type": "code",
   "execution_count": 7,
   "id": "b35104a2-eb93-4bf7-9e9c-c8f24fc7eb9d",
   "metadata": {},
   "outputs": [],
   "source": [
    "# Sort zones by numeric latitude and longitude (not alphabetically)\n",
    "zone_tuples = [tuple(map(int, z.split('_'))) for z in Glider_df['zone'].unique()]\n",
    "sorted_zones = sorted(zone_tuples)\n",
    "sorted_zone_strings = [f\"{lat}_{lon}\" for lat, lon in sorted_zones]\n",
    "\n",
    "# Create mapping: zone strings (e.g. \"94_-128\") → zone labels (\"zone1\", \"zone2\", ...)\n",
    "# Zones are ordered numerically from southwest to northeast\n",
    "zone_mapping = {zone: f\"zone{i+1}\" for i, zone in enumerate(sorted_zone_strings)}"
   ]
  },
  {
   "cell_type": "code",
   "execution_count": 8,
   "id": "e8565bb2-aa81-46f3-b7e0-95d37e7cff80",
   "metadata": {},
   "outputs": [],
   "source": [
    "#Apply the mapping to create a new readable zone label\n",
    "Glider_df['zone_label'] = Glider_df['zone'].map(zone_mapping)"
   ]
  },
  {
   "cell_type": "code",
   "execution_count": 9,
   "id": "73cdc146-a5a9-4db6-8302-51a4493fc478",
   "metadata": {},
   "outputs": [
    {
     "name": "stdout",
     "output_type": "stream",
     "text": [
      "Index(['time', 'latitude', 'longitude', 'depth', 'sea_water_temperature',\n",
      "       'sea_water_practical_salinity', 'sea_water_density',\n",
      "       'micromoles_of_oxygen_per_unit_mass_in_sea_water', 'date',\n",
      "       'depth_category', 'zone', 'zone_label'],\n",
      "      dtype='object')\n"
     ]
    },
    {
     "data": {
      "text/html": [
       "<div>\n",
       "<style scoped>\n",
       "    .dataframe tbody tr th:only-of-type {\n",
       "        vertical-align: middle;\n",
       "    }\n",
       "\n",
       "    .dataframe tbody tr th {\n",
       "        vertical-align: top;\n",
       "    }\n",
       "\n",
       "    .dataframe thead th {\n",
       "        text-align: right;\n",
       "    }\n",
       "</style>\n",
       "<table border=\"1\" class=\"dataframe\">\n",
       "  <thead>\n",
       "    <tr style=\"text-align: right;\">\n",
       "      <th></th>\n",
       "      <th>latitude</th>\n",
       "      <th>longitude</th>\n",
       "      <th>zone</th>\n",
       "      <th>zone_label</th>\n",
       "    </tr>\n",
       "  </thead>\n",
       "  <tbody>\n",
       "    <tr>\n",
       "      <th>0</th>\n",
       "      <td>47.417050</td>\n",
       "      <td>-63.907473</td>\n",
       "      <td>94_-128</td>\n",
       "      <td>zone2</td>\n",
       "    </tr>\n",
       "    <tr>\n",
       "      <th>1</th>\n",
       "      <td>47.417050</td>\n",
       "      <td>-63.907469</td>\n",
       "      <td>94_-128</td>\n",
       "      <td>zone2</td>\n",
       "    </tr>\n",
       "    <tr>\n",
       "      <th>2</th>\n",
       "      <td>47.417049</td>\n",
       "      <td>-63.907464</td>\n",
       "      <td>94_-128</td>\n",
       "      <td>zone2</td>\n",
       "    </tr>\n",
       "    <tr>\n",
       "      <th>3</th>\n",
       "      <td>47.417049</td>\n",
       "      <td>-63.907460</td>\n",
       "      <td>94_-128</td>\n",
       "      <td>zone2</td>\n",
       "    </tr>\n",
       "    <tr>\n",
       "      <th>4</th>\n",
       "      <td>47.417049</td>\n",
       "      <td>-63.907456</td>\n",
       "      <td>94_-128</td>\n",
       "      <td>zone2</td>\n",
       "    </tr>\n",
       "  </tbody>\n",
       "</table>\n",
       "</div>"
      ],
      "text/plain": [
       "    latitude  longitude     zone zone_label\n",
       "0  47.417050 -63.907473  94_-128      zone2\n",
       "1  47.417050 -63.907469  94_-128      zone2\n",
       "2  47.417049 -63.907464  94_-128      zone2\n",
       "3  47.417049 -63.907460  94_-128      zone2\n",
       "4  47.417049 -63.907456  94_-128      zone2"
      ]
     },
     "execution_count": 9,
     "metadata": {},
     "output_type": "execute_result"
    }
   ],
   "source": [
    "#Check columns were added correctly\n",
    "print(Glider_df.columns)\n",
    "\n",
    "#Preview a few of the rows\n",
    "Glider_df[['latitude', 'longitude', 'zone', 'zone_label']].head()"
   ]
  },
  {
   "cell_type": "code",
   "execution_count": 10,
   "id": "d832d833-59aa-4bdc-ac93-eb5c8b2e1ec0",
   "metadata": {},
   "outputs": [
    {
     "data": {
      "text/plain": [
       "low_oxygen\n",
       "0    9486118\n",
       "1      63514\n",
       "Name: count, dtype: int64"
      ]
     },
     "execution_count": 10,
     "metadata": {},
     "output_type": "execute_result"
    }
   ],
   "source": [
    "# Using 60 μmol/kg as the threshold to identify low oxygen levels,\n",
    "# as it's a common early indicator of hypoxic conditions in marine environments.\n",
    "threshold = 60  # μmol/kg\n",
    "Glider_df['low_oxygen'] = (Glider_df['micromoles_of_oxygen_per_unit_mass_in_sea_water'] < threshold).astype(int)\n",
    "\n",
    "#Count how many points fall in each category\n",
    "Glider_df['low_oxygen'].value_counts()"
   ]
  },
  {
   "cell_type": "code",
   "execution_count": 11,
   "id": "2ee170bb-8bb7-4353-a5a9-e422c38ea823",
   "metadata": {},
   "outputs": [],
   "source": [
    "import warnings\n",
    "\n",
    "#Suppress deprecation warnings\n",
    "with warnings.catch_warnings():\n",
    "    warnings.simplefilter(\"ignore\", category=DeprecationWarning)\n",
    "\n",
    "    #Sample 30 rows per day from Glider_df (Central Limit Theorem)\n",
    "    Glider_sampled_df = (\n",
    "        Glider_df.groupby('date', group_keys=False)\n",
    "        .apply(lambda group: group.sample(n=min(30, len(group)), random_state=42))\n",
    "        .reset_index(drop=True)\n",
    "    )"
   ]
  },
  {
   "cell_type": "code",
   "execution_count": 12,
   "id": "18be72f9-30b3-4a89-8b93-38764a6ecc37",
   "metadata": {},
   "outputs": [
    {
     "data": {
      "text/plain": [
       "date\n",
       "2018/07/20    30\n",
       "2018/07/21    30\n",
       "2018/07/22    30\n",
       "2018/07/23    30\n",
       "2018/07/24    30\n",
       "              ..\n",
       "2023/11/03    30\n",
       "2023/11/04    30\n",
       "2023/11/05    30\n",
       "2023/11/06    30\n",
       "2023/11/07    30\n",
       "Name: count, Length: 616, dtype: int64"
      ]
     },
     "execution_count": 12,
     "metadata": {},
     "output_type": "execute_result"
    }
   ],
   "source": [
    "#Check how many rows were sampled\n",
    "Glider_sampled_df['date'].value_counts().sort_index()"
   ]
  },
  {
   "cell_type": "code",
   "execution_count": 13,
   "id": "3ce45ab0-6d82-421d-b6c3-462507b0ccfa",
   "metadata": {},
   "outputs": [
    {
     "name": "stdout",
     "output_type": "stream",
     "text": [
      "Unique dates in sample: 616\n",
      "Unique dates in original: 616\n",
      "Since the values match, we can conclude that all dates in the original dataset were included in the sample.\n"
     ]
    }
   ],
   "source": [
    "#Check the number of unique dates in the sample data\n",
    "print(f\"Unique dates in sample: {Glider_sampled_df['date'].nunique()}\")\n",
    "\n",
    "#Check the number of dates in the original data\n",
    "print(f\"Unique dates in original: {Glider_df['date'].nunique()}\")\n",
    "\n",
    "print(\"Since the values match, we can conclude that all dates in the original dataset were included in the sample.\")"
   ]
  },
  {
   "cell_type": "code",
   "execution_count": 14,
   "id": "3ff51510-1381-4dbc-9249-c224f843c963",
   "metadata": {},
   "outputs": [
    {
     "data": {
      "text/html": [
       "<div>\n",
       "<style scoped>\n",
       "    .dataframe tbody tr th:only-of-type {\n",
       "        vertical-align: middle;\n",
       "    }\n",
       "\n",
       "    .dataframe tbody tr th {\n",
       "        vertical-align: top;\n",
       "    }\n",
       "\n",
       "    .dataframe thead th {\n",
       "        text-align: right;\n",
       "    }\n",
       "</style>\n",
       "<table border=\"1\" class=\"dataframe\">\n",
       "  <thead>\n",
       "    <tr style=\"text-align: right;\">\n",
       "      <th></th>\n",
       "      <th>date</th>\n",
       "      <th>depth</th>\n",
       "      <th>zone_label</th>\n",
       "      <th>micromoles_of_oxygen_per_unit_mass_in_sea_water</th>\n",
       "      <th>low_oxygen</th>\n",
       "    </tr>\n",
       "  </thead>\n",
       "  <tbody>\n",
       "    <tr>\n",
       "      <th>0</th>\n",
       "      <td>2018/07/20</td>\n",
       "      <td>15.359852</td>\n",
       "      <td>zone6</td>\n",
       "      <td>257.602202</td>\n",
       "      <td>0</td>\n",
       "    </tr>\n",
       "    <tr>\n",
       "      <th>1</th>\n",
       "      <td>2018/07/20</td>\n",
       "      <td>17.293387</td>\n",
       "      <td>zone6</td>\n",
       "      <td>260.670374</td>\n",
       "      <td>0</td>\n",
       "    </tr>\n",
       "    <tr>\n",
       "      <th>2</th>\n",
       "      <td>2018/07/20</td>\n",
       "      <td>65.130033</td>\n",
       "      <td>zone6</td>\n",
       "      <td>261.678744</td>\n",
       "      <td>0</td>\n",
       "    </tr>\n",
       "    <tr>\n",
       "      <th>3</th>\n",
       "      <td>2018/07/20</td>\n",
       "      <td>40.058139</td>\n",
       "      <td>zone6</td>\n",
       "      <td>279.215534</td>\n",
       "      <td>0</td>\n",
       "    </tr>\n",
       "    <tr>\n",
       "      <th>4</th>\n",
       "      <td>2018/07/20</td>\n",
       "      <td>20.337425</td>\n",
       "      <td>zone6</td>\n",
       "      <td>261.280794</td>\n",
       "      <td>0</td>\n",
       "    </tr>\n",
       "    <tr>\n",
       "      <th>5</th>\n",
       "      <td>2018/07/20</td>\n",
       "      <td>18.636942</td>\n",
       "      <td>zone6</td>\n",
       "      <td>257.589293</td>\n",
       "      <td>0</td>\n",
       "    </tr>\n",
       "    <tr>\n",
       "      <th>6</th>\n",
       "      <td>2018/07/20</td>\n",
       "      <td>59.529108</td>\n",
       "      <td>zone6</td>\n",
       "      <td>252.903920</td>\n",
       "      <td>0</td>\n",
       "    </tr>\n",
       "    <tr>\n",
       "      <th>7</th>\n",
       "      <td>2018/07/20</td>\n",
       "      <td>60.282520</td>\n",
       "      <td>zone6</td>\n",
       "      <td>290.530779</td>\n",
       "      <td>0</td>\n",
       "    </tr>\n",
       "    <tr>\n",
       "      <th>8</th>\n",
       "      <td>2018/07/20</td>\n",
       "      <td>19.945773</td>\n",
       "      <td>zone6</td>\n",
       "      <td>259.127375</td>\n",
       "      <td>0</td>\n",
       "    </tr>\n",
       "    <tr>\n",
       "      <th>9</th>\n",
       "      <td>2018/07/20</td>\n",
       "      <td>49.238673</td>\n",
       "      <td>zone6</td>\n",
       "      <td>271.414118</td>\n",
       "      <td>0</td>\n",
       "    </tr>\n",
       "  </tbody>\n",
       "</table>\n",
       "</div>"
      ],
      "text/plain": [
       "         date      depth zone_label  \\\n",
       "0  2018/07/20  15.359852      zone6   \n",
       "1  2018/07/20  17.293387      zone6   \n",
       "2  2018/07/20  65.130033      zone6   \n",
       "3  2018/07/20  40.058139      zone6   \n",
       "4  2018/07/20  20.337425      zone6   \n",
       "5  2018/07/20  18.636942      zone6   \n",
       "6  2018/07/20  59.529108      zone6   \n",
       "7  2018/07/20  60.282520      zone6   \n",
       "8  2018/07/20  19.945773      zone6   \n",
       "9  2018/07/20  49.238673      zone6   \n",
       "\n",
       "   micromoles_of_oxygen_per_unit_mass_in_sea_water  low_oxygen  \n",
       "0                                       257.602202           0  \n",
       "1                                       260.670374           0  \n",
       "2                                       261.678744           0  \n",
       "3                                       279.215534           0  \n",
       "4                                       261.280794           0  \n",
       "5                                       257.589293           0  \n",
       "6                                       252.903920           0  \n",
       "7                                       290.530779           0  \n",
       "8                                       259.127375           0  \n",
       "9                                       271.414118           0  "
      ]
     },
     "execution_count": 14,
     "metadata": {},
     "output_type": "execute_result"
    }
   ],
   "source": [
    "#Preview a few sampled rows\n",
    "Glider_sampled_df[['date', 'depth', 'zone_label', 'micromoles_of_oxygen_per_unit_mass_in_sea_water', 'low_oxygen']].head(10)"
   ]
  },
  {
   "cell_type": "markdown",
   "id": "750f7230-4f7b-405f-817c-c1c302ab0cdf",
   "metadata": {},
   "source": [
    "## ✅ End of Glider Data Cleaning"
   ]
  },
  {
   "cell_type": "markdown",
   "id": "db597a21-97e0-46ad-ade2-3a48cced3d14",
   "metadata": {},
   "source": [
    "## 💧 Bottle Data Cleaning\n",
    "This section filters out low-quality or missing data from the bottle dataset,  \n",
    "adds timestamps and date formatting for alignment with glider data."
   ]
  },
  {
   "cell_type": "code",
   "execution_count": 15,
   "id": "4675645c-6020-4e6a-9f4c-ac92e6b5f932",
   "metadata": {},
   "outputs": [],
   "source": [
    "import openpyxl\n",
    "#Find the bottle data\n",
    "bottle_df = pd.read_excel(\"data/Bottle data/Bottle Oxygen Data.xlsx\")\n",
    "\n",
    "# Filter out invalid oxygen values and keep only high-quality measurements\n",
    "bottle_df = bottle_df[\n",
    "    (bottle_df['best_Oxygen'] != -999) & \n",
    "    (bottle_df['best_Oxygen_FLAG'] == 2)\n",
    "].copy()\n",
    "\n",
    "# Create a full timestamp from UTC components\n",
    "bottle_df['timestamp'] = pd.to_datetime({\n",
    "    'year': bottle_df['Year_UTC'],\n",
    "    'month': bottle_df['Month_UTC'],\n",
    "    'day': bottle_df['Day_UTC'],\n",
    "    'hour': bottle_df['Hour_UTC'],\n",
    "    'minute': bottle_df['Minute_UTC']\n",
    "})\n",
    "\n",
    "# Extract a date column for easier grouping and comparison\n",
    "bottle_df['date'] = bottle_df['timestamp'].dt.strftime('%Y/%m/%d')\n",
    "\n",
    "# Keep only the relevant columns for comparison\n",
    "bottle_df = bottle_df[['Latitude', 'Longitude', 'timestamp', 'date', 'best_Oxygen']]"
   ]
  },
  {
   "cell_type": "code",
   "execution_count": 16,
   "id": "931cc789-b7df-4265-9af1-fe9796524d3b",
   "metadata": {},
   "outputs": [
    {
     "name": "stdout",
     "output_type": "stream",
     "text": [
      "Index(['Latitude', 'Longitude', 'timestamp', 'date', 'best_Oxygen'], dtype='object')\n",
      "Number of cleaned rows: 503\n",
      "Latitude       0\n",
      "Longitude      0\n",
      "timestamp      0\n",
      "date           0\n",
      "best_Oxygen    0\n",
      "dtype: int64\n"
     ]
    },
    {
     "data": {
      "text/html": [
       "<div>\n",
       "<style scoped>\n",
       "    .dataframe tbody tr th:only-of-type {\n",
       "        vertical-align: middle;\n",
       "    }\n",
       "\n",
       "    .dataframe tbody tr th {\n",
       "        vertical-align: top;\n",
       "    }\n",
       "\n",
       "    .dataframe thead th {\n",
       "        text-align: right;\n",
       "    }\n",
       "</style>\n",
       "<table border=\"1\" class=\"dataframe\">\n",
       "  <thead>\n",
       "    <tr style=\"text-align: right;\">\n",
       "      <th></th>\n",
       "      <th>Latitude</th>\n",
       "      <th>Longitude</th>\n",
       "      <th>timestamp</th>\n",
       "      <th>date</th>\n",
       "      <th>best_Oxygen</th>\n",
       "    </tr>\n",
       "  </thead>\n",
       "  <tbody>\n",
       "    <tr>\n",
       "      <th>0</th>\n",
       "      <td>49.101389</td>\n",
       "      <td>-67.2775</td>\n",
       "      <td>2021-10-22 21:07:00</td>\n",
       "      <td>2021/10/22</td>\n",
       "      <td>28.908497</td>\n",
       "    </tr>\n",
       "    <tr>\n",
       "      <th>1</th>\n",
       "      <td>49.101389</td>\n",
       "      <td>-67.2775</td>\n",
       "      <td>2021-10-22 21:07:00</td>\n",
       "      <td>2021/10/22</td>\n",
       "      <td>57.633972</td>\n",
       "    </tr>\n",
       "    <tr>\n",
       "      <th>2</th>\n",
       "      <td>49.101389</td>\n",
       "      <td>-67.2775</td>\n",
       "      <td>2021-10-22 21:07:00</td>\n",
       "      <td>2021/10/22</td>\n",
       "      <td>90.840147</td>\n",
       "    </tr>\n",
       "    <tr>\n",
       "      <th>3</th>\n",
       "      <td>49.101389</td>\n",
       "      <td>-67.2775</td>\n",
       "      <td>2021-10-22 21:07:00</td>\n",
       "      <td>2021/10/22</td>\n",
       "      <td>244.645609</td>\n",
       "    </tr>\n",
       "    <tr>\n",
       "      <th>4</th>\n",
       "      <td>49.101389</td>\n",
       "      <td>-67.2775</td>\n",
       "      <td>2021-10-22 21:07:00</td>\n",
       "      <td>2021/10/22</td>\n",
       "      <td>265.664677</td>\n",
       "    </tr>\n",
       "  </tbody>\n",
       "</table>\n",
       "</div>"
      ],
      "text/plain": [
       "    Latitude  Longitude           timestamp        date  best_Oxygen\n",
       "0  49.101389   -67.2775 2021-10-22 21:07:00  2021/10/22    28.908497\n",
       "1  49.101389   -67.2775 2021-10-22 21:07:00  2021/10/22    57.633972\n",
       "2  49.101389   -67.2775 2021-10-22 21:07:00  2021/10/22    90.840147\n",
       "3  49.101389   -67.2775 2021-10-22 21:07:00  2021/10/22   244.645609\n",
       "4  49.101389   -67.2775 2021-10-22 21:07:00  2021/10/22   265.664677"
      ]
     },
     "execution_count": 16,
     "metadata": {},
     "output_type": "execute_result"
    }
   ],
   "source": [
    "#Check unnessesary columns were removed correctly\n",
    "print(bottle_df.columns)\n",
    "\n",
    "#Check the number of rows is less than the original 863\n",
    "print(f\"Number of cleaned rows: {len(bottle_df)}\")\n",
    "\n",
    "#Check if there are any remaning missing values\n",
    "print(bottle_df.isna().sum())\n",
    "\n",
    "#Preview the first few rows\n",
    "bottle_df.head()"
   ]
  },
  {
   "cell_type": "code",
   "execution_count": 17,
   "id": "adf77e50-fd6b-4e4c-8817-8a0c60921361",
   "metadata": {},
   "outputs": [
    {
     "data": {
      "text/html": [
       "<div>\n",
       "<style scoped>\n",
       "    .dataframe tbody tr th:only-of-type {\n",
       "        vertical-align: middle;\n",
       "    }\n",
       "\n",
       "    .dataframe tbody tr th {\n",
       "        vertical-align: top;\n",
       "    }\n",
       "\n",
       "    .dataframe thead th {\n",
       "        text-align: right;\n",
       "    }\n",
       "</style>\n",
       "<table border=\"1\" class=\"dataframe\">\n",
       "  <thead>\n",
       "    <tr style=\"text-align: right;\">\n",
       "      <th></th>\n",
       "      <th>best_Oxygen</th>\n",
       "      <th>low_oxygen</th>\n",
       "    </tr>\n",
       "  </thead>\n",
       "  <tbody>\n",
       "    <tr>\n",
       "      <th>0</th>\n",
       "      <td>28.908497</td>\n",
       "      <td>1</td>\n",
       "    </tr>\n",
       "    <tr>\n",
       "      <th>1</th>\n",
       "      <td>57.633972</td>\n",
       "      <td>1</td>\n",
       "    </tr>\n",
       "    <tr>\n",
       "      <th>2</th>\n",
       "      <td>90.840147</td>\n",
       "      <td>0</td>\n",
       "    </tr>\n",
       "    <tr>\n",
       "      <th>3</th>\n",
       "      <td>244.645609</td>\n",
       "      <td>0</td>\n",
       "    </tr>\n",
       "    <tr>\n",
       "      <th>4</th>\n",
       "      <td>265.664677</td>\n",
       "      <td>0</td>\n",
       "    </tr>\n",
       "    <tr>\n",
       "      <th>5</th>\n",
       "      <td>269.623002</td>\n",
       "      <td>0</td>\n",
       "    </tr>\n",
       "    <tr>\n",
       "      <th>6</th>\n",
       "      <td>37.712004</td>\n",
       "      <td>1</td>\n",
       "    </tr>\n",
       "    <tr>\n",
       "      <th>7</th>\n",
       "      <td>34.026815</td>\n",
       "      <td>1</td>\n",
       "    </tr>\n",
       "    <tr>\n",
       "      <th>8</th>\n",
       "      <td>277.146930</td>\n",
       "      <td>0</td>\n",
       "    </tr>\n",
       "    <tr>\n",
       "      <th>9</th>\n",
       "      <td>50.558983</td>\n",
       "      <td>1</td>\n",
       "    </tr>\n",
       "  </tbody>\n",
       "</table>\n",
       "</div>"
      ],
      "text/plain": [
       "   best_Oxygen  low_oxygen\n",
       "0    28.908497           1\n",
       "1    57.633972           1\n",
       "2    90.840147           0\n",
       "3   244.645609           0\n",
       "4   265.664677           0\n",
       "5   269.623002           0\n",
       "6    37.712004           1\n",
       "7    34.026815           1\n",
       "8   277.146930           0\n",
       "9    50.558983           1"
      ]
     },
     "execution_count": 17,
     "metadata": {},
     "output_type": "execute_result"
    }
   ],
   "source": [
    "#Adding the low_oxygen column to macth glider format with the same threshold as before (threshold = 60  # μmol/kg)\n",
    "bottle_df['low_oxygen'] = (bottle_df['best_Oxygen'] < threshold).astype(int)\n",
    "\n",
    "#Checking top values to confirm tag was added correctly\n",
    "bottle_df[['best_Oxygen', 'low_oxygen']].head(10)"
   ]
  },
  {
   "cell_type": "code",
   "execution_count": 18,
   "id": "dac5551f-da15-486b-8912-f802db011052",
   "metadata": {},
   "outputs": [],
   "source": [
    "# To keep consistency with the glider data, we assign zones using the same 0.5° grid system\n",
    "bottle_df['zone'] = (\n",
    "    (bottle_df['Latitude'] // 0.5).astype(int).astype(str) + \"_\" +\n",
    "    (bottle_df['Longitude'] // 0.5).astype(int).astype(str)\n",
    ")\n",
    "\n",
    "# Sort zones numerically by latitude and longitude (not alphabetically)\n",
    "zone_tuples = [tuple(map(int, z.split('_'))) for z in bottle_df['zone'].unique()]\n",
    "sorted_zones = sorted(zone_tuples)\n",
    "sorted_zone_strings = [f\"{lat}_{lon}\" for lat, lon in sorted_zones]\n",
    "\n",
    "# Create mapping: zone strings (e.g., \"94_-128\") → zone labels (\"zone1\", \"zone2\", ...)\n",
    "# Zones are labeled from southwest to northeast\n",
    "zone_mapping = {zone: f\"zone{i+1}\" for i, zone in enumerate(sorted_zone_strings)}\n",
    "\n",
    "# Apply the mapping to create a new readable zone label column\n",
    "bottle_df['zone_label'] = bottle_df['zone'].map(zone_mapping)"
   ]
  },
  {
   "cell_type": "code",
   "execution_count": 19,
   "id": "340fea81-fc10-44b1-9f2f-4d5bab558915",
   "metadata": {},
   "outputs": [
    {
     "name": "stdout",
     "output_type": "stream",
     "text": [
      "Index(['Latitude', 'Longitude', 'timestamp', 'date', 'best_Oxygen',\n",
      "       'low_oxygen', 'zone', 'zone_label'],\n",
      "      dtype='object')\n"
     ]
    },
    {
     "data": {
      "text/html": [
       "<div>\n",
       "<style scoped>\n",
       "    .dataframe tbody tr th:only-of-type {\n",
       "        vertical-align: middle;\n",
       "    }\n",
       "\n",
       "    .dataframe tbody tr th {\n",
       "        vertical-align: top;\n",
       "    }\n",
       "\n",
       "    .dataframe thead th {\n",
       "        text-align: right;\n",
       "    }\n",
       "</style>\n",
       "<table border=\"1\" class=\"dataframe\">\n",
       "  <thead>\n",
       "    <tr style=\"text-align: right;\">\n",
       "      <th></th>\n",
       "      <th>Latitude</th>\n",
       "      <th>Longitude</th>\n",
       "      <th>timestamp</th>\n",
       "      <th>date</th>\n",
       "      <th>best_Oxygen</th>\n",
       "      <th>low_oxygen</th>\n",
       "      <th>zone</th>\n",
       "      <th>zone_label</th>\n",
       "    </tr>\n",
       "  </thead>\n",
       "  <tbody>\n",
       "    <tr>\n",
       "      <th>0</th>\n",
       "      <td>49.101389</td>\n",
       "      <td>-67.2775</td>\n",
       "      <td>2021-10-22 21:07:00</td>\n",
       "      <td>2021/10/22</td>\n",
       "      <td>28.908497</td>\n",
       "      <td>1</td>\n",
       "      <td>98_-135</td>\n",
       "      <td>zone18</td>\n",
       "    </tr>\n",
       "    <tr>\n",
       "      <th>1</th>\n",
       "      <td>49.101389</td>\n",
       "      <td>-67.2775</td>\n",
       "      <td>2021-10-22 21:07:00</td>\n",
       "      <td>2021/10/22</td>\n",
       "      <td>57.633972</td>\n",
       "      <td>1</td>\n",
       "      <td>98_-135</td>\n",
       "      <td>zone18</td>\n",
       "    </tr>\n",
       "    <tr>\n",
       "      <th>2</th>\n",
       "      <td>49.101389</td>\n",
       "      <td>-67.2775</td>\n",
       "      <td>2021-10-22 21:07:00</td>\n",
       "      <td>2021/10/22</td>\n",
       "      <td>90.840147</td>\n",
       "      <td>0</td>\n",
       "      <td>98_-135</td>\n",
       "      <td>zone18</td>\n",
       "    </tr>\n",
       "    <tr>\n",
       "      <th>3</th>\n",
       "      <td>49.101389</td>\n",
       "      <td>-67.2775</td>\n",
       "      <td>2021-10-22 21:07:00</td>\n",
       "      <td>2021/10/22</td>\n",
       "      <td>244.645609</td>\n",
       "      <td>0</td>\n",
       "      <td>98_-135</td>\n",
       "      <td>zone18</td>\n",
       "    </tr>\n",
       "    <tr>\n",
       "      <th>4</th>\n",
       "      <td>49.101389</td>\n",
       "      <td>-67.2775</td>\n",
       "      <td>2021-10-22 21:07:00</td>\n",
       "      <td>2021/10/22</td>\n",
       "      <td>265.664677</td>\n",
       "      <td>0</td>\n",
       "      <td>98_-135</td>\n",
       "      <td>zone18</td>\n",
       "    </tr>\n",
       "  </tbody>\n",
       "</table>\n",
       "</div>"
      ],
      "text/plain": [
       "    Latitude  Longitude           timestamp        date  best_Oxygen  \\\n",
       "0  49.101389   -67.2775 2021-10-22 21:07:00  2021/10/22    28.908497   \n",
       "1  49.101389   -67.2775 2021-10-22 21:07:00  2021/10/22    57.633972   \n",
       "2  49.101389   -67.2775 2021-10-22 21:07:00  2021/10/22    90.840147   \n",
       "3  49.101389   -67.2775 2021-10-22 21:07:00  2021/10/22   244.645609   \n",
       "4  49.101389   -67.2775 2021-10-22 21:07:00  2021/10/22   265.664677   \n",
       "\n",
       "   low_oxygen     zone zone_label  \n",
       "0           1  98_-135     zone18  \n",
       "1           1  98_-135     zone18  \n",
       "2           0  98_-135     zone18  \n",
       "3           0  98_-135     zone18  \n",
       "4           0  98_-135     zone18  "
      ]
     },
     "execution_count": 19,
     "metadata": {},
     "output_type": "execute_result"
    }
   ],
   "source": [
    "#Check columns were added correctly\n",
    "print(bottle_df.columns)\n",
    "\n",
    "#Preview a few of the rows\n",
    "bottle_df.head()"
   ]
  },
  {
   "cell_type": "markdown",
   "id": "2aeffa5a-4dc7-4bf7-b4ec-145b20a18414",
   "metadata": {},
   "source": [
    "## ✅ End of Bottle Data Cleaning"
   ]
  },
  {
   "cell_type": "code",
   "execution_count": 20,
   "id": "14152056",
   "metadata": {},
   "outputs": [
    {
     "name": "stdout",
     "output_type": "stream",
     "text": [
      "                            OLS Regression Results                            \n",
      "==============================================================================\n",
      "Dep. Variable:            best_Oxygen   R-squared:                       0.026\n",
      "Model:                            OLS   Adj. R-squared:                  0.018\n",
      "Method:                 Least Squares   F-statistic:                     3.288\n",
      "Date:                Sun, 06 Apr 2025   Prob (F-statistic):             0.0112\n",
      "Time:                        15:50:12   Log-Likelihood:                -3034.0\n",
      "No. Observations:                 503   AIC:                             6078.\n",
      "Df Residuals:                     498   BIC:                             6099.\n",
      "Df Model:                           4                                         \n",
      "Covariance Type:            nonrobust                                         \n",
      "==============================================================================\n",
      "                 coef    std err          t      P>|t|      [0.025      0.975]\n",
      "------------------------------------------------------------------------------\n",
      "const       -235.9283   1055.125     -0.224      0.823   -2308.974    1837.118\n",
      "timestamp  -7.813e-07   5.03e-07     -1.553      0.121   -1.77e-06    2.07e-07\n",
      "Latitude      15.6700     23.213      0.675      0.500     -29.938      61.278\n",
      "Longitude      5.4440      2.120      2.568      0.011       1.279       9.609\n",
      "zone_label    -0.1864      1.303     -0.143      0.886      -2.747       2.374\n",
      "==============================================================================\n",
      "Omnibus:                     6935.396   Durbin-Watson:                   1.136\n",
      "Prob(Omnibus):                  0.000   Jarque-Bera (JB):               54.368\n",
      "Skew:                           0.363   Prob(JB):                     1.56e-12\n",
      "Kurtosis:                       1.562   Cond. No.                     4.04e+09\n",
      "==============================================================================\n",
      "\n",
      "Notes:\n",
      "[1] Standard Errors assume that the covariance matrix of the errors is correctly specified.\n",
      "[2] The condition number is large, 4.04e+09. This might indicate that there are\n",
      "strong multicollinearity or other numerical problems.\n"
     ]
    }
   ],
   "source": [
    "import statsmodels.api as sm\n",
    "import pandas as pd\n",
    "import numpy as np\n",
    "\n",
    "# Assuming bottle_df is already loaded\n",
    "# Preprocess the 'timestamp' column\n",
    "bottle_df['timestamp'] = pd.to_datetime(bottle_df['timestamp'])\n",
    "bottle_df['timestamp'] = (bottle_df['timestamp'] - bottle_df['timestamp'].min()) / np.timedelta64(1, 's')  # Time in seconds since the first timestamp\n",
    "\n",
    "\n",
    "# Assuming your dataframe is named 'bottle_df'\n",
    "bottle_df['zone_label'] = bottle_df['zone_label'].str.replace('zone', '').astype(int)\n",
    "\n",
    "# Define the features (independent variables) and target (dependent variable)\n",
    "X = bottle_df[['timestamp', 'Latitude', 'Longitude', 'zone_label']]  # Features\n",
    "y = bottle_df['best_Oxygen']  # Target\n",
    "\n",
    "# One-hot encoding for 'zone' variable\n",
    "X = pd.get_dummies(X, drop_first=True)\n",
    "\n",
    "# Add a constant (intercept) to the model\n",
    "X = sm.add_constant(X)\n",
    "\n",
    "# Fit the model\n",
    "model = sm.OLS(y, X).fit()\n",
    "\n",
    "# Print out the model summary\n",
    "print(model.summary())\n"
   ]
  },
  {
   "cell_type": "markdown",
   "id": "b4c3374d",
   "metadata": {},
   "source": [
    "R^2----Only 8.3% of the variance is explained by the features, which suggests that the features may not be strong predictors for the target variable. Many of the p-values for the coefficients are large (above 0.05), meaning that most of the predictors are not statistically significant in predicting best_Oxygen. Latitude, Longitude, and many of the zone variables have p-values greater than 0.05, which indicates that they might not have a meaningful relationship with the target variable."
   ]
  },
  {
   "cell_type": "markdown",
   "id": "de7b224b",
   "metadata": {},
   "source": [
    "Multicollinearity: The warning regarding \"strong multicollinearity problems\" suggests that some features are highly correlated with each other. This could distort the interpretation of the coefficients and the model’s performance."
   ]
  },
  {
   "cell_type": "code",
   "execution_count": 21,
   "id": "a5b0e6dd",
   "metadata": {},
   "outputs": [
    {
     "name": "stdout",
     "output_type": "stream",
     "text": [
      "Accuracy: 0.9504950495049505\n",
      "Classification Report:\n",
      "              precision    recall  f1-score   support\n",
      "\n",
      "           0       0.95      1.00      0.97        96\n",
      "           1       0.00      0.00      0.00         5\n",
      "\n",
      "    accuracy                           0.95       101\n",
      "   macro avg       0.48      0.50      0.49       101\n",
      "weighted avg       0.90      0.95      0.93       101\n",
      "\n"
     ]
    },
    {
     "name": "stderr",
     "output_type": "stream",
     "text": [
      "C:\\Users\\fadav\\AppData\\Local\\Programs\\Python\\Python312\\Lib\\site-packages\\sklearn\\metrics\\_classification.py:1565: UndefinedMetricWarning: Precision is ill-defined and being set to 0.0 in labels with no predicted samples. Use `zero_division` parameter to control this behavior.\n",
      "  _warn_prf(average, modifier, f\"{metric.capitalize()} is\", len(result))\n",
      "C:\\Users\\fadav\\AppData\\Local\\Programs\\Python\\Python312\\Lib\\site-packages\\sklearn\\metrics\\_classification.py:1565: UndefinedMetricWarning: Precision is ill-defined and being set to 0.0 in labels with no predicted samples. Use `zero_division` parameter to control this behavior.\n",
      "  _warn_prf(average, modifier, f\"{metric.capitalize()} is\", len(result))\n",
      "C:\\Users\\fadav\\AppData\\Local\\Programs\\Python\\Python312\\Lib\\site-packages\\sklearn\\metrics\\_classification.py:1565: UndefinedMetricWarning: Precision is ill-defined and being set to 0.0 in labels with no predicted samples. Use `zero_division` parameter to control this behavior.\n",
      "  _warn_prf(average, modifier, f\"{metric.capitalize()} is\", len(result))\n"
     ]
    }
   ],
   "source": [
    "from sklearn.linear_model import LogisticRegression\n",
    "from sklearn.model_selection import train_test_split\n",
    "from sklearn.metrics import classification_report, accuracy_score\n",
    "from sklearn.preprocessing import StandardScaler\n",
    "\n",
    "# Assuming bottle_df is already loaded\n",
    "# Preprocess the 'timestamp' column\n",
    "bottle_df['timestamp'] = pd.to_datetime(bottle_df['timestamp'])\n",
    "bottle_df['timestamp'] = (bottle_df['timestamp'] - bottle_df['timestamp'].min()) / np.timedelta64(1, 's')  # Time in seconds since the first timestamp\n",
    "\n",
    "# Define the features (independent variables) and target (dependent variable)\n",
    "X = bottle_df[['timestamp', 'Latitude', 'Longitude', 'zone_label']]  # Features\n",
    "y = bottle_df['low_oxygen']  # Target (binary)\n",
    "\n",
    "# One-hot encoding for 'zone' variable\n",
    "X = pd.get_dummies(X, drop_first=True)\n",
    "\n",
    "# Split data into train and test sets\n",
    "X_train, X_test, y_train, y_test = train_test_split(X, y, test_size=0.2, random_state=42)\n",
    "\n",
    "# Standardize features (important for Logistic Regression)\n",
    "scaler = StandardScaler()\n",
    "X_train_scaled = scaler.fit_transform(X_train)\n",
    "X_test_scaled = scaler.transform(X_test)\n",
    "\n",
    "# Create and fit the Logistic Regression model\n",
    "logreg = LogisticRegression(max_iter=1000)\n",
    "logreg.fit(X_train_scaled, y_train)\n",
    "\n",
    "# Make predictions\n",
    "y_pred = logreg.predict(X_test_scaled)\n",
    "\n",
    "# Evaluate the model\n",
    "print(f\"Accuracy: {accuracy_score(y_test, y_pred)}\")\n",
    "print(\"Classification Report:\")\n",
    "print(classification_report(y_test, y_pred))\n"
   ]
  },
  {
   "cell_type": "code",
   "execution_count": 22,
   "id": "8291b2f8",
   "metadata": {},
   "outputs": [
    {
     "name": "stdout",
     "output_type": "stream",
     "text": [
      "Optimization terminated successfully.\n",
      "         Current function value: 0.147715\n",
      "         Iterations 9\n"
     ]
    },
    {
     "data": {
      "text/html": [
       "<table class=\"simpletable\">\n",
       "<caption>Logit Regression Results</caption>\n",
       "<tr>\n",
       "  <th>Dep. Variable:</th>      <td>low_oxygen</td>    <th>  No. Observations:  </th>  <td>   503</td>  \n",
       "</tr>\n",
       "<tr>\n",
       "  <th>Model:</th>                 <td>Logit</td>      <th>  Df Residuals:      </th>  <td>   499</td>  \n",
       "</tr>\n",
       "<tr>\n",
       "  <th>Method:</th>                 <td>MLE</td>       <th>  Df Model:          </th>  <td>     3</td>  \n",
       "</tr>\n",
       "<tr>\n",
       "  <th>Date:</th>            <td>Sun, 06 Apr 2025</td> <th>  Pseudo R-squ.:     </th>  <td>0.2526</td>  \n",
       "</tr>\n",
       "<tr>\n",
       "  <th>Time:</th>                <td>15:50:13</td>     <th>  Log-Likelihood:    </th> <td> -74.301</td> \n",
       "</tr>\n",
       "<tr>\n",
       "  <th>converged:</th>             <td>True</td>       <th>  LL-Null:           </th> <td> -99.411</td> \n",
       "</tr>\n",
       "<tr>\n",
       "  <th>Covariance Type:</th>     <td>nonrobust</td>    <th>  LLR p-value:       </th> <td>7.169e-11</td>\n",
       "</tr>\n",
       "</table>\n",
       "<table class=\"simpletable\">\n",
       "<tr>\n",
       "    <td></td>       <th>coef</th>     <th>std err</th>      <th>z</th>      <th>P>|z|</th>  <th>[0.025</th>    <th>0.975]</th>  \n",
       "</tr>\n",
       "<tr>\n",
       "  <th>const</th> <td>   -4.2633</td> <td>    0.467</td> <td>   -9.129</td> <td> 0.000</td> <td>   -5.179</td> <td>   -3.348</td>\n",
       "</tr>\n",
       "<tr>\n",
       "  <th>x1</th>    <td>    1.4926</td> <td>    0.839</td> <td>    1.779</td> <td> 0.075</td> <td>   -0.151</td> <td>    3.137</td>\n",
       "</tr>\n",
       "<tr>\n",
       "  <th>x2</th>    <td>   -1.2989</td> <td>    0.295</td> <td>   -4.406</td> <td> 0.000</td> <td>   -1.877</td> <td>   -0.721</td>\n",
       "</tr>\n",
       "<tr>\n",
       "  <th>x3</th>    <td>   -0.1038</td> <td>    0.783</td> <td>   -0.132</td> <td> 0.895</td> <td>   -1.639</td> <td>    1.431</td>\n",
       "</tr>\n",
       "</table>"
      ],
      "text/latex": [
       "\\begin{center}\n",
       "\\begin{tabular}{lclc}\n",
       "\\toprule\n",
       "\\textbf{Dep. Variable:}   &   low\\_oxygen    & \\textbf{  No. Observations:  } &      503    \\\\\n",
       "\\textbf{Model:}           &      Logit       & \\textbf{  Df Residuals:      } &      499    \\\\\n",
       "\\textbf{Method:}          &       MLE        & \\textbf{  Df Model:          } &        3    \\\\\n",
       "\\textbf{Date:}            & Sun, 06 Apr 2025 & \\textbf{  Pseudo R-squ.:     } &   0.2526    \\\\\n",
       "\\textbf{Time:}            &     15:50:13     & \\textbf{  Log-Likelihood:    } &   -74.301   \\\\\n",
       "\\textbf{converged:}       &       True       & \\textbf{  LL-Null:           } &   -99.411   \\\\\n",
       "\\textbf{Covariance Type:} &    nonrobust     & \\textbf{  LLR p-value:       } & 7.169e-11   \\\\\n",
       "\\bottomrule\n",
       "\\end{tabular}\n",
       "\\begin{tabular}{lcccccc}\n",
       "               & \\textbf{coef} & \\textbf{std err} & \\textbf{z} & \\textbf{P$> |$z$|$} & \\textbf{[0.025} & \\textbf{0.975]}  \\\\\n",
       "\\midrule\n",
       "\\textbf{const} &      -4.2633  &        0.467     &    -9.129  &         0.000        &       -5.179    &       -3.348     \\\\\n",
       "\\textbf{x1}    &       1.4926  &        0.839     &     1.779  &         0.075        &       -0.151    &        3.137     \\\\\n",
       "\\textbf{x2}    &      -1.2989  &        0.295     &    -4.406  &         0.000        &       -1.877    &       -0.721     \\\\\n",
       "\\textbf{x3}    &      -0.1038  &        0.783     &    -0.132  &         0.895        &       -1.639    &        1.431     \\\\\n",
       "\\bottomrule\n",
       "\\end{tabular}\n",
       "%\\caption{Logit Regression Results}\n",
       "\\end{center}"
      ],
      "text/plain": [
       "<class 'statsmodels.iolib.summary.Summary'>\n",
       "\"\"\"\n",
       "                           Logit Regression Results                           \n",
       "==============================================================================\n",
       "Dep. Variable:             low_oxygen   No. Observations:                  503\n",
       "Model:                          Logit   Df Residuals:                      499\n",
       "Method:                           MLE   Df Model:                            3\n",
       "Date:                Sun, 06 Apr 2025   Pseudo R-squ.:                  0.2526\n",
       "Time:                        15:50:13   Log-Likelihood:                -74.301\n",
       "converged:                       True   LL-Null:                       -99.411\n",
       "Covariance Type:            nonrobust   LLR p-value:                 7.169e-11\n",
       "==============================================================================\n",
       "                 coef    std err          z      P>|z|      [0.025      0.975]\n",
       "------------------------------------------------------------------------------\n",
       "const         -4.2633      0.467     -9.129      0.000      -5.179      -3.348\n",
       "x1             1.4926      0.839      1.779      0.075      -0.151       3.137\n",
       "x2            -1.2989      0.295     -4.406      0.000      -1.877      -0.721\n",
       "x3            -0.1038      0.783     -0.132      0.895      -1.639       1.431\n",
       "==============================================================================\n",
       "\"\"\""
      ]
     },
     "execution_count": 22,
     "metadata": {},
     "output_type": "execute_result"
    }
   ],
   "source": [
    "import pandas as pd\n",
    "import statsmodels.api as sm\n",
    "from sklearn.preprocessing import StandardScaler\n",
    "\n",
    "# Assuming bottle_df is the DataFrame and target is 'low_oxygen'\n",
    "X = bottle_df[['Latitude', 'Longitude','zone_label']]  # Features\n",
    "y = bottle_df['low_oxygen']  # Target\n",
    "\n",
    "# Standardizing the features (important for logistic regression)\n",
    "scaler = StandardScaler()\n",
    "X_scaled = scaler.fit_transform(X)\n",
    "\n",
    "# Adding a constant to the model (intercept term)\n",
    "X_scaled = sm.add_constant(X_scaled)\n",
    "\n",
    "# Fit the logistic regression model\n",
    "logit_model = sm.Logit(y, X_scaled)\n",
    "logit_res = logit_model.fit()\n",
    "\n",
    "# Print the summary of the logistic regression model\n",
    "logit_res.summary()"
   ]
  },
  {
   "cell_type": "markdown",
   "id": "702a8a5a",
   "metadata": {},
   "source": [
    "0 for normal oxygen, 1 for low oxygen. R-squared: 0.2525, indicating a moderate fit of the model.  LLR p-value: 1.255e-11, which is extremely small and indicates that the model is statistically significant. Log-Likelihood: -74.309, which is the log-likelihood of the model given the data."
   ]
  },
  {
   "cell_type": "markdown",
   "id": "86498bc3",
   "metadata": {},
   "source": [
    "The model's overall performance is statistically significant, with a R-squared of 0.2525, indicating that about 25% of the variance in low_oxygen is explained by the model. The p-value for the likelihood ratio test (LLR) is 1.255e-11, suggesting that the model is highly significant and the relationships it suggests are not due to random chance"
   ]
  },
  {
   "cell_type": "markdown",
   "id": "02d1345b",
   "metadata": {},
   "source": [
    "x1 appears to have a positive impact on the likelihood of low oxygen, indicating that higher values of x1 are associated with an increased risk of low oxygen levels.\n",
    "\n",
    "x2, on the other hand, has a negative impact on the likelihood of low oxygen, suggesting that higher values of x2 are linked to a decreased risk of low oxygen levels."
   ]
  }
 ],
 "metadata": {
  "kernelspec": {
   "display_name": "Python 3 (ipykernel)",
   "language": "python",
   "name": "python3"
  },
  "language_info": {
   "codemirror_mode": {
    "name": "ipython",
    "version": 3
   },
   "file_extension": ".py",
   "mimetype": "text/x-python",
   "name": "python",
   "nbconvert_exporter": "python",
   "pygments_lexer": "ipython3",
   "version": "3.12.0"
  }
 },
 "nbformat": 4,
 "nbformat_minor": 5
}
